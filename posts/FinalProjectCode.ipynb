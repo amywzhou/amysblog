{
 "cells": [
  {
   "cell_type": "markdown",
   "id": "dc2a4958",
   "metadata": {},
   "source": [
    "# Introduction"
   ]
  },
  {
   "cell_type": "markdown",
   "id": "a49c15d4",
   "metadata": {},
   "source": [
    "### Datasets: \n",
    "* *Nutrition Facts for Starbucks Menu* via [Kaggle](https://www.kaggle.com/datasets/starbucks/starbucks-menu?resource=download), Uploaded to [GitHub](https://github.com/amywzhou/DH140/tree/main/starbucks%20data)\n",
    "* *Nutrition Facts for McDonald's Menu* via [Kaggle](https://www.kaggle.com/datasets/mcdonalds/nutrition-facts), Uploaded to [GitHub](https://github.com/amywzhou/DH140/tree/main/mcdonalds%20data)\n",
    "\n",
    "### Dataset Descriptions:\n",
    "*Nutrition Facts for Starbucks Menu* includes the nutrution facts for items at Starbucks. \n",
    "*Nutrition Facts for McDonald's Menu* includes the nutrution facts for items at McDonalds.\n",
    "\n",
    "### Motivation: \n",
    "To gain insight on the product naming process at Starbucks (and McDonalds, if time permits). To identify if deceitful marketing tactics are being used to convince consumers that items are healthier than they are. \n",
    "\n",
    "### Research Questions:\n",
    "> What general connotation do the menu items have at Starbucks (and McDonalds), and how does the connotation compare to the item's nutritional value?\n",
    "\n",
    "> What is the frequency of high frequency sounds and low frequency sounds in product names? How does it compare to its nutritional value for the most unhealthy products?\n",
    "\n",
    "**After doing receiving inconclusive results in my intial analysis, I am considering switching my research questions to instead analyze how Starbucks and McDonalds differ in nutritional value. I am still exploring the datasets to see what other relationships I can examine.** \n"
   ]
  },
  {
   "cell_type": "code",
   "execution_count": 7,
   "id": "3105df6f",
   "metadata": {},
   "outputs": [],
   "source": [
    "import pandas as pd\n",
    "import matplotlib.pyplot as plt"
   ]
  },
  {
   "cell_type": "markdown",
   "id": "07ce01fd",
   "metadata": {},
   "source": [
    "# Data Exploration\n",
    "\n",
    "### Starbucks Data "
   ]
  },
  {
   "cell_type": "code",
   "execution_count": 8,
   "id": "b555d8f7",
   "metadata": {},
   "outputs": [],
   "source": [
    "sb_drinks = pd.read_csv('https://raw.githubusercontent.com/amywzhou/DH140/main/starbucks%20data/starbucks_drinkMenu_expanded.csv')\n",
    "sb_food = pd.read_csv('https://raw.githubusercontent.com/amywzhou/DH140/main/starbucks%20data/starbucks-menu-nutrition-food.csv')"
   ]
  },
  {
   "cell_type": "markdown",
   "id": "2de8f232",
   "metadata": {},
   "source": [
    "#### Food Data"
   ]
  },
  {
   "cell_type": "code",
   "execution_count": 9,
   "id": "e93a68ba",
   "metadata": {},
   "outputs": [
    {
     "name": "stdout",
     "output_type": "stream",
     "text": [
      "<class 'pandas.core.frame.DataFrame'>\n",
      "RangeIndex: 113 entries, 0 to 112\n",
      "Data columns (total 6 columns):\n",
      " #   Column        Non-Null Count  Dtype  \n",
      "---  ------        --------------  -----  \n",
      " 0   Unnamed: 0    113 non-null    object \n",
      " 1    Calories     113 non-null    int64  \n",
      " 2    Fat (g)      113 non-null    float64\n",
      " 3    Carb. (g)    113 non-null    int64  \n",
      " 4    Fiber (g)    113 non-null    int64  \n",
      " 5    Protein (g)  113 non-null    int64  \n",
      "dtypes: float64(1), int64(4), object(1)\n",
      "memory usage: 5.4+ KB\n"
     ]
    }
   ],
   "source": [
    "sb_food.info()"
   ]
  },
  {
   "cell_type": "code",
   "execution_count": 10,
   "id": "c0db62e8",
   "metadata": {},
   "outputs": [
    {
     "data": {
      "text/plain": [
       "Index(['Unnamed: 0', ' Calories', ' Fat (g)', ' Carb. (g)', ' Fiber (g)',\n",
       "       ' Protein (g)'],\n",
       "      dtype='object')"
      ]
     },
     "execution_count": 10,
     "metadata": {},
     "output_type": "execute_result"
    }
   ],
   "source": [
    "sb_food.columns"
   ]
  },
  {
   "cell_type": "code",
   "execution_count": 11,
   "id": "57f998aa",
   "metadata": {},
   "outputs": [
    {
     "data": {
      "text/plain": [
       "Index(['Item', ' Calories', ' Fat (g)', ' Carb. (g)', ' Fiber (g)',\n",
       "       ' Protein (g)'],\n",
       "      dtype='object')"
      ]
     },
     "execution_count": 11,
     "metadata": {},
     "output_type": "execute_result"
    }
   ],
   "source": [
    "sb_food = sb_food.rename(columns={'Unnamed: 0': 'Item'})\n",
    "sb_food.columns"
   ]
  },
  {
   "cell_type": "code",
   "execution_count": 12,
   "id": "05317c63",
   "metadata": {},
   "outputs": [
    {
     "data": {
      "text/html": [
       "<div>\n",
       "<style scoped>\n",
       "    .dataframe tbody tr th:only-of-type {\n",
       "        vertical-align: middle;\n",
       "    }\n",
       "\n",
       "    .dataframe tbody tr th {\n",
       "        vertical-align: top;\n",
       "    }\n",
       "\n",
       "    .dataframe thead th {\n",
       "        text-align: right;\n",
       "    }\n",
       "</style>\n",
       "<table border=\"1\" class=\"dataframe\">\n",
       "  <thead>\n",
       "    <tr style=\"text-align: right;\">\n",
       "      <th></th>\n",
       "      <th>Item</th>\n",
       "      <th>Calories</th>\n",
       "      <th>Fat (g)</th>\n",
       "      <th>Carb. (g)</th>\n",
       "      <th>Fiber (g)</th>\n",
       "      <th>Protein (g)</th>\n",
       "    </tr>\n",
       "  </thead>\n",
       "  <tbody>\n",
       "    <tr>\n",
       "      <th>count</th>\n",
       "      <td>113</td>\n",
       "      <td>113.000000</td>\n",
       "      <td>113.000000</td>\n",
       "      <td>113.000000</td>\n",
       "      <td>113.000000</td>\n",
       "      <td>113.000000</td>\n",
       "    </tr>\n",
       "    <tr>\n",
       "      <th>unique</th>\n",
       "      <td>113</td>\n",
       "      <td>NaN</td>\n",
       "      <td>NaN</td>\n",
       "      <td>NaN</td>\n",
       "      <td>NaN</td>\n",
       "      <td>NaN</td>\n",
       "    </tr>\n",
       "    <tr>\n",
       "      <th>top</th>\n",
       "      <td>Chonga Bagel</td>\n",
       "      <td>NaN</td>\n",
       "      <td>NaN</td>\n",
       "      <td>NaN</td>\n",
       "      <td>NaN</td>\n",
       "      <td>NaN</td>\n",
       "    </tr>\n",
       "    <tr>\n",
       "      <th>freq</th>\n",
       "      <td>1</td>\n",
       "      <td>NaN</td>\n",
       "      <td>NaN</td>\n",
       "      <td>NaN</td>\n",
       "      <td>NaN</td>\n",
       "      <td>NaN</td>\n",
       "    </tr>\n",
       "    <tr>\n",
       "      <th>mean</th>\n",
       "      <td>NaN</td>\n",
       "      <td>356.637168</td>\n",
       "      <td>16.353982</td>\n",
       "      <td>41.486726</td>\n",
       "      <td>2.849558</td>\n",
       "      <td>11.469027</td>\n",
       "    </tr>\n",
       "    <tr>\n",
       "      <th>std</th>\n",
       "      <td>NaN</td>\n",
       "      <td>127.710685</td>\n",
       "      <td>8.297397</td>\n",
       "      <td>15.796764</td>\n",
       "      <td>2.888466</td>\n",
       "      <td>8.463230</td>\n",
       "    </tr>\n",
       "    <tr>\n",
       "      <th>min</th>\n",
       "      <td>NaN</td>\n",
       "      <td>90.000000</td>\n",
       "      <td>0.000000</td>\n",
       "      <td>5.000000</td>\n",
       "      <td>0.000000</td>\n",
       "      <td>1.000000</td>\n",
       "    </tr>\n",
       "    <tr>\n",
       "      <th>25%</th>\n",
       "      <td>NaN</td>\n",
       "      <td>280.000000</td>\n",
       "      <td>9.000000</td>\n",
       "      <td>31.000000</td>\n",
       "      <td>1.000000</td>\n",
       "      <td>5.000000</td>\n",
       "    </tr>\n",
       "    <tr>\n",
       "      <th>50%</th>\n",
       "      <td>NaN</td>\n",
       "      <td>360.000000</td>\n",
       "      <td>17.000000</td>\n",
       "      <td>42.000000</td>\n",
       "      <td>2.000000</td>\n",
       "      <td>8.000000</td>\n",
       "    </tr>\n",
       "    <tr>\n",
       "      <th>75%</th>\n",
       "      <td>NaN</td>\n",
       "      <td>450.000000</td>\n",
       "      <td>23.000000</td>\n",
       "      <td>53.000000</td>\n",
       "      <td>3.000000</td>\n",
       "      <td>19.000000</td>\n",
       "    </tr>\n",
       "    <tr>\n",
       "      <th>max</th>\n",
       "      <td>NaN</td>\n",
       "      <td>650.000000</td>\n",
       "      <td>37.000000</td>\n",
       "      <td>80.000000</td>\n",
       "      <td>21.000000</td>\n",
       "      <td>34.000000</td>\n",
       "    </tr>\n",
       "  </tbody>\n",
       "</table>\n",
       "</div>"
      ],
      "text/plain": [
       "                Item    Calories     Fat (g)   Carb. (g)   Fiber (g)  \\\n",
       "count            113  113.000000  113.000000  113.000000  113.000000   \n",
       "unique           113         NaN         NaN         NaN         NaN   \n",
       "top     Chonga Bagel         NaN         NaN         NaN         NaN   \n",
       "freq               1         NaN         NaN         NaN         NaN   \n",
       "mean             NaN  356.637168   16.353982   41.486726    2.849558   \n",
       "std              NaN  127.710685    8.297397   15.796764    2.888466   \n",
       "min              NaN   90.000000    0.000000    5.000000    0.000000   \n",
       "25%              NaN  280.000000    9.000000   31.000000    1.000000   \n",
       "50%              NaN  360.000000   17.000000   42.000000    2.000000   \n",
       "75%              NaN  450.000000   23.000000   53.000000    3.000000   \n",
       "max              NaN  650.000000   37.000000   80.000000   21.000000   \n",
       "\n",
       "         Protein (g)  \n",
       "count     113.000000  \n",
       "unique           NaN  \n",
       "top              NaN  \n",
       "freq             NaN  \n",
       "mean       11.469027  \n",
       "std         8.463230  \n",
       "min         1.000000  \n",
       "25%         5.000000  \n",
       "50%         8.000000  \n",
       "75%        19.000000  \n",
       "max        34.000000  "
      ]
     },
     "execution_count": 12,
     "metadata": {},
     "output_type": "execute_result"
    }
   ],
   "source": [
    "sb_food.describe(include = 'all')"
   ]
  },
  {
   "cell_type": "code",
   "execution_count": 13,
   "id": "9b945802",
   "metadata": {},
   "outputs": [
    {
     "data": {
      "text/html": [
       "<div>\n",
       "<style scoped>\n",
       "    .dataframe tbody tr th:only-of-type {\n",
       "        vertical-align: middle;\n",
       "    }\n",
       "\n",
       "    .dataframe tbody tr th {\n",
       "        vertical-align: top;\n",
       "    }\n",
       "\n",
       "    .dataframe thead th {\n",
       "        text-align: right;\n",
       "    }\n",
       "</style>\n",
       "<table border=\"1\" class=\"dataframe\">\n",
       "  <thead>\n",
       "    <tr style=\"text-align: right;\">\n",
       "      <th></th>\n",
       "      <th>Item</th>\n",
       "      <th>Calories</th>\n",
       "      <th>Fat (g)</th>\n",
       "      <th>Carb. (g)</th>\n",
       "      <th>Fiber (g)</th>\n",
       "      <th>Protein (g)</th>\n",
       "    </tr>\n",
       "  </thead>\n",
       "  <tbody>\n",
       "    <tr>\n",
       "      <th>0</th>\n",
       "      <td>Chonga Bagel</td>\n",
       "      <td>300</td>\n",
       "      <td>5.0</td>\n",
       "      <td>50</td>\n",
       "      <td>3</td>\n",
       "      <td>12</td>\n",
       "    </tr>\n",
       "    <tr>\n",
       "      <th>1</th>\n",
       "      <td>8-Grain Roll</td>\n",
       "      <td>380</td>\n",
       "      <td>6.0</td>\n",
       "      <td>70</td>\n",
       "      <td>7</td>\n",
       "      <td>10</td>\n",
       "    </tr>\n",
       "    <tr>\n",
       "      <th>2</th>\n",
       "      <td>Almond Croissant</td>\n",
       "      <td>410</td>\n",
       "      <td>22.0</td>\n",
       "      <td>45</td>\n",
       "      <td>3</td>\n",
       "      <td>10</td>\n",
       "    </tr>\n",
       "    <tr>\n",
       "      <th>3</th>\n",
       "      <td>Apple Fritter</td>\n",
       "      <td>460</td>\n",
       "      <td>23.0</td>\n",
       "      <td>56</td>\n",
       "      <td>2</td>\n",
       "      <td>7</td>\n",
       "    </tr>\n",
       "    <tr>\n",
       "      <th>4</th>\n",
       "      <td>Banana Nut Bread</td>\n",
       "      <td>420</td>\n",
       "      <td>22.0</td>\n",
       "      <td>52</td>\n",
       "      <td>2</td>\n",
       "      <td>6</td>\n",
       "    </tr>\n",
       "  </tbody>\n",
       "</table>\n",
       "</div>"
      ],
      "text/plain": [
       "               Item   Calories   Fat (g)   Carb. (g)   Fiber (g)   Protein (g)\n",
       "0      Chonga Bagel        300       5.0          50           3            12\n",
       "1      8-Grain Roll        380       6.0          70           7            10\n",
       "2  Almond Croissant        410      22.0          45           3            10\n",
       "3     Apple Fritter        460      23.0          56           2             7\n",
       "4  Banana Nut Bread        420      22.0          52           2             6"
      ]
     },
     "execution_count": 13,
     "metadata": {},
     "output_type": "execute_result"
    }
   ],
   "source": [
    "sb_food.head()"
   ]
  },
  {
   "cell_type": "code",
   "execution_count": 14,
   "id": "a71cc63f",
   "metadata": {},
   "outputs": [
    {
     "data": {
      "text/html": [
       "<div>\n",
       "<style scoped>\n",
       "    .dataframe tbody tr th:only-of-type {\n",
       "        vertical-align: middle;\n",
       "    }\n",
       "\n",
       "    .dataframe tbody tr th {\n",
       "        vertical-align: top;\n",
       "    }\n",
       "\n",
       "    .dataframe thead th {\n",
       "        text-align: right;\n",
       "    }\n",
       "</style>\n",
       "<table border=\"1\" class=\"dataframe\">\n",
       "  <thead>\n",
       "    <tr style=\"text-align: right;\">\n",
       "      <th></th>\n",
       "      <th>Item</th>\n",
       "      <th>Calories</th>\n",
       "      <th>Fat (g)</th>\n",
       "      <th>Carb. (g)</th>\n",
       "      <th>Fiber (g)</th>\n",
       "      <th>Protein (g)</th>\n",
       "    </tr>\n",
       "  </thead>\n",
       "  <tbody>\n",
       "    <tr>\n",
       "      <th>108</th>\n",
       "      <td>Justin's Chocolate Hazelnut Butter</td>\n",
       "      <td>180</td>\n",
       "      <td>14.0</td>\n",
       "      <td>12</td>\n",
       "      <td>3</td>\n",
       "      <td>4</td>\n",
       "    </tr>\n",
       "    <tr>\n",
       "      <th>109</th>\n",
       "      <td>Justin's Classic Almond Butter</td>\n",
       "      <td>190</td>\n",
       "      <td>18.0</td>\n",
       "      <td>6</td>\n",
       "      <td>3</td>\n",
       "      <td>7</td>\n",
       "    </tr>\n",
       "    <tr>\n",
       "      <th>110</th>\n",
       "      <td>Lemon Chiffon Yogurt</td>\n",
       "      <td>340</td>\n",
       "      <td>13.0</td>\n",
       "      <td>38</td>\n",
       "      <td>0</td>\n",
       "      <td>18</td>\n",
       "    </tr>\n",
       "    <tr>\n",
       "      <th>111</th>\n",
       "      <td>Organic Avocado (Spread)</td>\n",
       "      <td>90</td>\n",
       "      <td>8.0</td>\n",
       "      <td>5</td>\n",
       "      <td>4</td>\n",
       "      <td>1</td>\n",
       "    </tr>\n",
       "    <tr>\n",
       "      <th>112</th>\n",
       "      <td>Seasonal Fruit Blend</td>\n",
       "      <td>90</td>\n",
       "      <td>0.0</td>\n",
       "      <td>24</td>\n",
       "      <td>4</td>\n",
       "      <td>1</td>\n",
       "    </tr>\n",
       "  </tbody>\n",
       "</table>\n",
       "</div>"
      ],
      "text/plain": [
       "                                   Item   Calories   Fat (g)   Carb. (g)  \\\n",
       "108  Justin's Chocolate Hazelnut Butter        180      14.0          12   \n",
       "109      Justin's Classic Almond Butter        190      18.0           6   \n",
       "110                Lemon Chiffon Yogurt        340      13.0          38   \n",
       "111            Organic Avocado (Spread)         90       8.0           5   \n",
       "112                Seasonal Fruit Blend         90       0.0          24   \n",
       "\n",
       "      Fiber (g)   Protein (g)  \n",
       "108           3             4  \n",
       "109           3             7  \n",
       "110           0            18  \n",
       "111           4             1  \n",
       "112           4             1  "
      ]
     },
     "execution_count": 14,
     "metadata": {},
     "output_type": "execute_result"
    }
   ],
   "source": [
    "sb_food.tail()"
   ]
  },
  {
   "cell_type": "code",
   "execution_count": 15,
   "id": "a388d098",
   "metadata": {},
   "outputs": [
    {
     "data": {
      "text/plain": [
       "<AxesSubplot: >"
      ]
     },
     "execution_count": 15,
     "metadata": {},
     "output_type": "execute_result"
    },
    {
     "data": {
      "image/png": "[encoded data removed]",
      "text/plain": [
       "<Figure size 640x480 with 1 Axes>"
      ]
     },
     "metadata": {},
     "output_type": "display_data"
    }
   ],
   "source": [
    "sb_food.plot(y = ' Calories', kind = 'box')"
   ]
  },
  {
   "cell_type": "code",
   "execution_count": 16,
   "id": "7e72515e",
   "metadata": {},
   "outputs": [
    {
     "data": {
      "text/plain": [
       "<AxesSubplot: >"
      ]
     },
     "execution_count": 16,
     "metadata": {},
     "output_type": "execute_result"
    },
    {
     "data": {
      "image/png": "[encoded data removed]",
      "text/plain": [
       "<Figure size 640x480 with 1 Axes>"
      ]
     },
     "metadata": {},
     "output_type": "display_data"
    }
   ],
   "source": [
    "sb_food.plot(y = ' Fat (g)', kind = 'box')"
   ]
  },
  {
   "cell_type": "code",
   "execution_count": 17,
   "id": "887048ab",
   "metadata": {},
   "outputs": [
    {
     "data": {
      "text/plain": [
       "<AxesSubplot: >"
      ]
     },
     "execution_count": 17,
     "metadata": {},
     "output_type": "execute_result"
    },
    {
     "data": {
      "image/png": "[encoded data removed]",
      "text/plain": [
       "<Figure size 640x480 with 1 Axes>"
      ]
     },
     "metadata": {},
     "output_type": "display_data"
    }
   ],
   "source": [
    "sb_food.plot(y = ' Carb. (g)', kind = 'box')"
   ]
  },
  {
   "cell_type": "code",
   "execution_count": 18,
   "id": "02257824",
   "metadata": {},
   "outputs": [
    {
     "data": {
      "text/plain": [
       "<AxesSubplot: >"
      ]
     },
     "execution_count": 18,
     "metadata": {},
     "output_type": "execute_result"
    },
    {
     "data": {
      "image/png": "[encoded data removed]",
      "text/plain": [
       "<Figure size 640x480 with 1 Axes>"
      ]
     },
     "metadata": {},
     "output_type": "display_data"
    }
   ],
   "source": [
    "sb_food.plot(y = ' Fiber (g)', kind = 'box')"
   ]
  },
  {
   "cell_type": "code",
   "execution_count": 19,
   "id": "3f6f2ee7",
   "metadata": {},
   "outputs": [
    {
     "data": {
      "text/plain": [
       "<AxesSubplot: >"
      ]
     },
     "execution_count": 19,
     "metadata": {},
     "output_type": "execute_result"
    },
    {
     "data": {
      "image/png": "[encoded data removed]",
      "text/plain": [
       "<Figure size 640x480 with 1 Axes>"
      ]
     },
     "metadata": {},
     "output_type": "display_data"
    }
   ],
   "source": [
    "sb_food.plot(y = ' Protein (g)', kind = 'box')"
   ]
  },
  {
   "cell_type": "markdown",
   "id": "b34dc594",
   "metadata": {},
   "source": [
    "#### Drinks Data"
   ]
  },
  {
   "cell_type": "code",
   "execution_count": 20,
   "id": "6c336f27",
   "metadata": {
    "scrolled": true
   },
   "outputs": [
    {
     "name": "stdout",
     "output_type": "stream",
     "text": [
      "<class 'pandas.core.frame.DataFrame'>\n",
      "RangeIndex: 242 entries, 0 to 241\n",
      "Data columns (total 18 columns):\n",
      " #   Column                     Non-Null Count  Dtype  \n",
      "---  ------                     --------------  -----  \n",
      " 0   Beverage_category          242 non-null    object \n",
      " 1   Beverage                   242 non-null    object \n",
      " 2   Beverage_prep              242 non-null    object \n",
      " 3   Calories                   242 non-null    int64  \n",
      " 4    Total Fat (g)             242 non-null    object \n",
      " 5   Trans Fat (g)              242 non-null    float64\n",
      " 6   Saturated Fat (g)          242 non-null    float64\n",
      " 7    Sodium (mg)               242 non-null    int64  \n",
      " 8    Total Carbohydrates (g)   242 non-null    int64  \n",
      " 9   Cholesterol (mg)           242 non-null    int64  \n",
      " 10   Dietary Fibre (g)         242 non-null    int64  \n",
      " 11   Sugars (g)                242 non-null    int64  \n",
      " 12   Protein (g)               242 non-null    float64\n",
      " 13  Vitamin A (% DV)           242 non-null    object \n",
      " 14  Vitamin C (% DV)           242 non-null    object \n",
      " 15   Calcium (% DV)            242 non-null    object \n",
      " 16  Iron (% DV)                242 non-null    object \n",
      " 17  Caffeine (mg)              241 non-null    object \n",
      "dtypes: float64(3), int64(6), object(9)\n",
      "memory usage: 34.2+ KB\n"
     ]
    }
   ],
   "source": [
    "sb_drinks.info()"
   ]
  },
  {
   "cell_type": "markdown",
   "id": "e2aa3bab",
   "metadata": {},
   "source": [
    "# Analysis"
   ]
  },
  {
   "cell_type": "markdown",
   "id": "1621c709",
   "metadata": {},
   "source": [
    "### Connotation/Perception of Each Food Name and Correlation to Nutrition"
   ]
  },
  {
   "cell_type": "code",
   "execution_count": 21,
   "id": "1692c56d",
   "metadata": {},
   "outputs": [
    {
     "name": "stderr",
     "output_type": "stream",
     "text": [
      "[nltk_data] Downloading package vader_lexicon to\n",
      "[nltk_data]     /home/jovyan/nltk_data...\n",
      "[nltk_data]   Package vader_lexicon is already up-to-date!\n",
      "[nltk_data] Downloading package stopwords to /home/jovyan/nltk_data...\n",
      "[nltk_data]   Package stopwords is already up-to-date!\n",
      "[nltk_data] Downloading package opinion_lexicon to\n",
      "[nltk_data]     /home/jovyan/nltk_data...\n",
      "[nltk_data]   Package opinion_lexicon is already up-to-date!\n"
     ]
    }
   ],
   "source": [
    "import nltk\n",
    "from nltk.sentiment import vader\n",
    "nltk.download('vader_lexicon')\n",
    "nltk.download('stopwords')\n",
    "sia = vader.SentimentIntensityAnalyzer()\n",
    "\n",
    "nltk.download('opinion_lexicon')\n",
    "from nltk.corpus import opinion_lexicon\n",
    "\n",
    "from nltk.tokenize import sent_tokenize, word_tokenize\n"
   ]
  },
  {
   "cell_type": "code",
   "execution_count": 22,
   "id": "f8713fa5",
   "metadata": {},
   "outputs": [],
   "source": [
    "def getSentiment(item):\n",
    "    return sia.polarity_scores(item)['compound']"
   ]
  },
  {
   "cell_type": "code",
   "execution_count": 23,
   "id": "50a2ec83",
   "metadata": {},
   "outputs": [],
   "source": [
    "positive_words = set(opinion_lexicon.positive())\n",
    "negative_words = set(opinion_lexicon.negative())\n",
    "\n",
    "def getOpinionScore(item):\n",
    "    words = nltk.word_tokenize(item.lower())\n",
    "\n",
    "    num_positive = sum(1 for word in words if word in positive_words)\n",
    "    num_negative = sum(1 for word in words if word in negative_words)\n",
    "\n",
    "    opinion_score = num_positive - num_negative\n",
    "\n",
    "    return opinion_score"
   ]
  },
  {
   "cell_type": "markdown",
   "id": "fc182418",
   "metadata": {},
   "source": [
    "#### Starbucks Food Items"
   ]
  },
  {
   "cell_type": "code",
   "execution_count": 24,
   "id": "3c0e9570",
   "metadata": {},
   "outputs": [
    {
     "data": {
      "text/plain": [
       "count    113.000000\n",
       "mean       0.019035\n",
       "std        0.087896\n",
       "min        0.000000\n",
       "25%        0.000000\n",
       "50%        0.000000\n",
       "75%        0.000000\n",
       "max        0.510600\n",
       "Name: Sentiment, dtype: float64"
      ]
     },
     "execution_count": 24,
     "metadata": {},
     "output_type": "execute_result"
    }
   ],
   "source": [
    "sb_food['Sentiment'] = sb_food['Item'].apply(getSentiment)\n",
    "sb_food['Sentiment'].describe()"
   ]
  },
  {
   "cell_type": "code",
   "execution_count": 25,
   "id": "a59e7eac",
   "metadata": {},
   "outputs": [
    {
     "data": {
      "text/plain": [
       "count    113.000000\n",
       "mean       0.035398\n",
       "std        0.351761\n",
       "min       -1.000000\n",
       "25%        0.000000\n",
       "50%        0.000000\n",
       "75%        0.000000\n",
       "max        1.000000\n",
       "Name: Opinion, dtype: float64"
      ]
     },
     "execution_count": 25,
     "metadata": {},
     "output_type": "execute_result"
    }
   ],
   "source": [
    "sb_food['Opinion'] = sb_food['Item'].apply(getOpinionScore)\n",
    "sb_food['Opinion'].describe()"
   ]
  },
  {
   "cell_type": "code",
   "execution_count": 26,
   "id": "4b75d98a",
   "metadata": {},
   "outputs": [
    {
     "data": {
      "text/plain": [
       "array([[<AxesSubplot: title={'center': ' Calories'}>,\n",
       "        <AxesSubplot: title={'center': ' Fat (g)'}>],\n",
       "       [<AxesSubplot: title={'center': ' Carb. (g)'}>, <AxesSubplot: >]],\n",
       "      dtype=object)"
      ]
     },
     "execution_count": 26,
     "metadata": {},
     "output_type": "execute_result"
    },
    {
     "data": {
      "image/png": "[encoded data removed]",
      "text/plain": [
       "<Figure size 640x480 with 4 Axes>"
      ]
     },
     "metadata": {},
     "output_type": "display_data"
    }
   ],
   "source": [
    "sb_food.loc[sb_food['Opinion']>0, [' Calories', ' Fat (g)', ' Carb. (g)']].hist()"
   ]
  },
  {
   "cell_type": "markdown",
   "id": "12a68d52",
   "metadata": {},
   "source": [
    "#### Starbucks Drinks Items"
   ]
  },
  {
   "cell_type": "code",
   "execution_count": 27,
   "id": "5c0fe52f",
   "metadata": {},
   "outputs": [
    {
     "data": {
      "text/plain": [
       "count    242.000000\n",
       "mean      -0.001914\n",
       "std        0.012029\n",
       "min       -0.077200\n",
       "25%        0.000000\n",
       "50%        0.000000\n",
       "75%        0.000000\n",
       "max        0.000000\n",
       "Name: Sentiment, dtype: float64"
      ]
     },
     "execution_count": 27,
     "metadata": {},
     "output_type": "execute_result"
    }
   ],
   "source": [
    "sb_drinks['Sentiment'] = sb_drinks['Beverage'].apply(getSentiment)\n",
    "sb_drinks['Sentiment'].describe()"
   ]
  },
  {
   "cell_type": "code",
   "execution_count": 28,
   "id": "78bd4b38",
   "metadata": {},
   "outputs": [
    {
     "data": {
      "text/plain": [
       "count    242.000000\n",
       "mean       0.107438\n",
       "std        0.359844\n",
       "min       -1.000000\n",
       "25%        0.000000\n",
       "50%        0.000000\n",
       "75%        0.000000\n",
       "max        1.000000\n",
       "Name: Opinion, dtype: float64"
      ]
     },
     "execution_count": 28,
     "metadata": {},
     "output_type": "execute_result"
    }
   ],
   "source": [
    "sb_drinks['Opinion'] = sb_drinks['Beverage'].apply(getOpinionScore)\n",
    "sb_drinks['Opinion'].describe()"
   ]
  },
  {
   "cell_type": "code",
   "execution_count": 29,
   "id": "cb7f3ddb",
   "metadata": {},
   "outputs": [
    {
     "data": {
      "text/plain": [
       "array([[<AxesSubplot: title={'center': 'Calories'}>]], dtype=object)"
      ]
     },
     "execution_count": 29,
     "metadata": {},
     "output_type": "execute_result"
    },
    {
     "data": {
      "image/png": "[encoded data removed]",
      "text/plain": [
       "<Figure size 640x480 with 1 Axes>"
      ]
     },
     "metadata": {},
     "output_type": "display_data"
    }
   ],
   "source": [
    "sb_drinks.loc[sb_drinks['Opinion']>0, ['Calories']].hist(bins = 10)"
   ]
  },
  {
   "cell_type": "code",
   "execution_count": 30,
   "id": "1769d748",
   "metadata": {},
   "outputs": [
    {
     "data": {
      "text/plain": [
       "array([[<AxesSubplot: title={'center': 'Calories'}>]], dtype=object)"
      ]
     },
     "execution_count": 30,
     "metadata": {},
     "output_type": "execute_result"
    },
    {
     "data": {
      "image/png": "[encoded data removed]",
      "text/plain": [
       "<Figure size 640x480 with 1 Axes>"
      ]
     },
     "metadata": {},
     "output_type": "display_data"
    }
   ],
   "source": [
    "sb_drinks.loc[sb_drinks['Opinion']<0, ['Calories']].hist()"
   ]
  },
  {
   "cell_type": "markdown",
   "id": "c73138d8",
   "metadata": {},
   "source": [
    "#### Limitations of Results \n",
    "\n",
    "- Discuss why SIA and Opinion Lexicon didn't work\n",
    "    - Words were neutral, and not enough context to create a sentiment\n",
    "- Discuss limited analysis of available data\n",
    "    - Not enough data points to draw conclusion\n",
    "    - Unequal amounts of \"positive\" versus \"negative food items\n",
    "- Discuss future studies \n",
    "    - Make a set of positive/negative list specifically from the food health perspective\n"
   ]
  },
  {
   "cell_type": "markdown",
   "id": "73d4d796",
   "metadata": {},
   "source": [
    "### Frequency of Sounds (Letters) in Product Names and Correlation to Nutrition"
   ]
  },
  {
   "cell_type": "code",
   "execution_count": 31,
   "id": "1bc0e7db",
   "metadata": {},
   "outputs": [],
   "source": [
    "def letterFrequency(item):\n",
    "    frequencyScore = 0\n",
    "    for letter in ['f', 's', 'i', 'e']:\n",
    "        if letter in item.lower():\n",
    "            frequencyScore = frequencyScore + 1\n",
    "    for letter in ['b', 'd', 'g', 'o', 'u']:\n",
    "        if letter in item.lower():\n",
    "            frequencyScore = frequencyScore - 1\n",
    "    if frequencyScore > 0 :\n",
    "      phonemicSounds = 'high'\n",
    "    elif frequencyScore < 0:\n",
    "      phonemicSounds = 'low'\n",
    "    else:\n",
    "      phonemicSounds = 'neutral'\n",
    "    return phonemicSounds"
   ]
  },
  {
   "cell_type": "markdown",
   "id": "d22cdaaf",
   "metadata": {},
   "source": [
    "#### Starbucks Food"
   ]
  },
  {
   "cell_type": "code",
   "execution_count": 38,
   "id": "a311a18c",
   "metadata": {},
   "outputs": [
    {
     "data": {
      "text/plain": [
       "0          low\n",
       "1          low\n",
       "2      neutral\n",
       "3         high\n",
       "4          low\n",
       "        ...   \n",
       "108    neutral\n",
       "109        low\n",
       "110    neutral\n",
       "111    neutral\n",
       "112    neutral\n",
       "Name: phonemicFrequency, Length: 113, dtype: object"
      ]
     },
     "execution_count": 38,
     "metadata": {},
     "output_type": "execute_result"
    }
   ],
   "source": [
    "sb_food['phonemicFrequency'] = sb_food['Item'].apply(letterFrequency)"
   ]
  },
  {
   "cell_type": "code",
   "execution_count": 39,
   "id": "c768b8aa",
   "metadata": {},
   "outputs": [
    {
     "data": {
      "text/plain": [
       "array([[<AxesSubplot: title={'center': ' Calories'}>,\n",
       "        <AxesSubplot: title={'center': ' Fat (g)'}>],\n",
       "       [<AxesSubplot: title={'center': ' Carb. (g)'}>, <AxesSubplot: >]],\n",
       "      dtype=object)"
      ]
     },
     "execution_count": 39,
     "metadata": {},
     "output_type": "execute_result"
    },
    {
     "data": {
      "image/png": "[encoded data removed]",
      "text/plain": [
       "<Figure size 640x480 with 4 Axes>"
      ]
     },
     "metadata": {},
     "output_type": "display_data"
    }
   ],
   "source": [
    "sb_food.loc[sb_food['phonemicFrequency']=='high', [' Calories', ' Fat (g)', ' Carb. (g)']].hist()"
   ]
  },
  {
   "cell_type": "code",
   "execution_count": 40,
   "id": "30273589",
   "metadata": {},
   "outputs": [
    {
     "data": {
      "text/plain": [
       "array([[<AxesSubplot: title={'center': ' Calories'}>,\n",
       "        <AxesSubplot: title={'center': ' Fat (g)'}>],\n",
       "       [<AxesSubplot: title={'center': ' Carb. (g)'}>, <AxesSubplot: >]],\n",
       "      dtype=object)"
      ]
     },
     "execution_count": 40,
     "metadata": {},
     "output_type": "execute_result"
    },
    {
     "data": {
      "image/png": "[encoded data removed]",
      "text/plain": [
       "<Figure size 640x480 with 4 Axes>"
      ]
     },
     "metadata": {},
     "output_type": "display_data"
    }
   ],
   "source": [
    "sb_food.loc[sb_food['phonemicFrequency']=='low', [' Calories', ' Fat (g)', ' Carb. (g)']].hist()"
   ]
  },
  {
   "cell_type": "code",
   "execution_count": 41,
   "id": "1b30b5c7",
   "metadata": {},
   "outputs": [
    {
     "data": {
      "text/plain": [
       "array([[<AxesSubplot: title={'center': ' Calories'}>,\n",
       "        <AxesSubplot: title={'center': ' Fat (g)'}>],\n",
       "       [<AxesSubplot: title={'center': ' Carb. (g)'}>, <AxesSubplot: >]],\n",
       "      dtype=object)"
      ]
     },
     "execution_count": 41,
     "metadata": {},
     "output_type": "execute_result"
    },
    {
     "data": {
      "image/png": "[encoded data removed]",
      "text/plain": [
       "<Figure size 640x480 with 4 Axes>"
      ]
     },
     "metadata": {},
     "output_type": "display_data"
    }
   ],
   "source": [
    "sb_food.loc[sb_food['phonemicFrequency']=='neutral', [' Calories', ' Fat (g)', ' Carb. (g)']].hist()"
   ]
  },
  {
   "cell_type": "code",
   "execution_count": 43,
   "id": "3d06c70f",
   "metadata": {},
   "outputs": [],
   "source": [
    "sb_drinks['phonemicFrequency'] = sb_drinks['Beverage'].apply(letterFrequency)"
   ]
  },
  {
   "cell_type": "code",
   "execution_count": 45,
   "id": "f30e3d97",
   "metadata": {},
   "outputs": [
    {
     "data": {
      "text/plain": [
       "array([[<AxesSubplot: title={'center': 'Calories'}>]], dtype=object)"
      ]
     },
     "execution_count": 45,
     "metadata": {},
     "output_type": "execute_result"
    },
    {
     "data": {
      "image/png": "[encoded data removed]",
      "text/plain": [
       "<Figure size 640x480 with 1 Axes>"
      ]
     },
     "metadata": {},
     "output_type": "display_data"
    }
   ],
   "source": [
    "sb_drinks.loc[sb_drinks['phonemicFrequency']=='high', ['Calories']].hist()"
   ]
  },
  {
   "cell_type": "code",
   "execution_count": 46,
   "id": "815a82c2",
   "metadata": {},
   "outputs": [
    {
     "data": {
      "text/plain": [
       "array([[<AxesSubplot: title={'center': 'Calories'}>]], dtype=object)"
      ]
     },
     "execution_count": 46,
     "metadata": {},
     "output_type": "execute_result"
    },
    {
     "data": {
      "image/png": "[encoded data removed]",
      "text/plain": [
       "<Figure size 640x480 with 1 Axes>"
      ]
     },
     "metadata": {},
     "output_type": "display_data"
    }
   ],
   "source": [
    "sb_drinks.loc[sb_drinks['phonemicFrequency']=='low', ['Calories']].hist()"
   ]
  },
  {
   "cell_type": "markdown",
   "id": "f03d8c41",
   "metadata": {},
   "source": [
    "#### Goals for this section\n",
    "- plot histograms for high, neutral, and low phonemic Frequency on the same graph\n",
    "- plot for additional categories beyond calories \n",
    "- explor different plot types  \n",
    "- MAYBE conduct a network analysis to predict what the next item name will be? \n",
    "\n",
    "**I am still exploring the data and and looking for more trends and considering altering my research question to compare Starbucks and McDonalds Nutrition since most of my results look inconclusive**"
   ]
  },
  {
   "cell_type": "markdown",
   "id": "5c55eb2f",
   "metadata": {},
   "source": [
    "#  McDonalds Data (if enough time)"
   ]
  },
  {
   "cell_type": "code",
   "execution_count": 33,
   "id": "f9dcd804",
   "metadata": {},
   "outputs": [
    {
     "name": "stdout",
     "output_type": "stream",
     "text": [
      "<class 'pandas.core.frame.DataFrame'>\n",
      "RangeIndex: 260 entries, 0 to 259\n",
      "Data columns (total 24 columns):\n",
      " #   Column                         Non-Null Count  Dtype  \n",
      "---  ------                         --------------  -----  \n",
      " 0   Category                       260 non-null    object \n",
      " 1   Item                           260 non-null    object \n",
      " 2   Serving Size                   260 non-null    object \n",
      " 3   Calories                       260 non-null    int64  \n",
      " 4   Calories from Fat              260 non-null    int64  \n",
      " 5   Total Fat                      260 non-null    float64\n",
      " 6   Total Fat (% Daily Value)      260 non-null    int64  \n",
      " 7   Saturated Fat                  260 non-null    float64\n",
      " 8   Saturated Fat (% Daily Value)  260 non-null    int64  \n",
      " 9   Trans Fat                      260 non-null    float64\n",
      " 10  Cholesterol                    260 non-null    int64  \n",
      " 11  Cholesterol (% Daily Value)    260 non-null    int64  \n",
      " 12  Sodium                         260 non-null    int64  \n",
      " 13  Sodium (% Daily Value)         260 non-null    int64  \n",
      " 14  Carbohydrates                  260 non-null    int64  \n",
      " 15  Carbohydrates (% Daily Value)  260 non-null    int64  \n",
      " 16  Dietary Fiber                  260 non-null    int64  \n",
      " 17  Dietary Fiber (% Daily Value)  260 non-null    int64  \n",
      " 18  Sugars                         260 non-null    int64  \n",
      " 19  Protein                        260 non-null    int64  \n",
      " 20  Vitamin A (% Daily Value)      260 non-null    int64  \n",
      " 21  Vitamin C (% Daily Value)      260 non-null    int64  \n",
      " 22  Calcium (% Daily Value)        260 non-null    int64  \n",
      " 23  Iron (% Daily Value)           260 non-null    int64  \n",
      "dtypes: float64(3), int64(18), object(3)\n",
      "memory usage: 48.9+ KB\n"
     ]
    }
   ],
   "source": [
    "mcd_menu = pd.read_csv('https://raw.githubusercontent.com/amywzhou/DH140/main/mcdonalds%20data/menu.csv')\n",
    "mcd_menu.info()"
   ]
  },
  {
   "cell_type": "code",
   "execution_count": 34,
   "id": "f1e42d0c",
   "metadata": {},
   "outputs": [
    {
     "name": "stdout",
     "output_type": "stream",
     "text": [
      "['Breakfast' 'Beef & Pork' 'Chicken & Fish' 'Salads' 'Snacks & Sides'\n",
      " 'Desserts' 'Beverages' 'Coffee & Tea' 'Smoothies & Shakes']\n"
     ]
    }
   ],
   "source": [
    "unique_categories = mcd_menu['Category'].unique()\n",
    "print(unique_categories)"
   ]
  },
  {
   "cell_type": "code",
   "execution_count": 35,
   "id": "d8d0ee74",
   "metadata": {},
   "outputs": [],
   "source": [
    "mcd_drinks = pd.concat([mcd_menu[mcd_menu['Category']== 'Beverages'], mcd_menu[mcd_menu['Category']== 'Coffee & Tea'], mcd_menu[mcd_menu['Category']== 'Smoothies & Shakes']])\n",
    "mcd_food = pd.concat([mcd_menu[mcd_menu['Category']== 'Breakfast'], mcd_menu[mcd_menu['Category']== 'Beef & Pork'], mcd_menu[mcd_menu['Category']== 'Chicken & Fish'],mcd_menu[mcd_menu['Category']== 'Salads'],mcd_menu[mcd_menu['Category']== 'Snacks & Sides']])"
   ]
  },
  {
   "cell_type": "code",
   "execution_count": 36,
   "id": "b935adcf",
   "metadata": {},
   "outputs": [
    {
     "data": {
      "text/plain": [
       "count    103.000000\n",
       "mean       0.014728\n",
       "std        0.086202\n",
       "min        0.000000\n",
       "25%        0.000000\n",
       "50%        0.000000\n",
       "75%        0.000000\n",
       "max        0.599400\n",
       "Name: Sentiment, dtype: float64"
      ]
     },
     "execution_count": 36,
     "metadata": {},
     "output_type": "execute_result"
    }
   ],
   "source": [
    "mcd_food['Sentiment'] = mcd_food['Item'].apply(getSentiment)\n",
    "mcd_food['Sentiment'].describe()"
   ]
  },
  {
   "cell_type": "code",
   "execution_count": 37,
   "id": "15589b15",
   "metadata": {},
   "outputs": [
    {
     "data": {
      "text/plain": [
       "array([[<AxesSubplot: title={'center': 'Calories'}>,\n",
       "        <AxesSubplot: title={'center': 'Total Fat'}>],\n",
       "       [<AxesSubplot: title={'center': 'Cholesterol'}>, <AxesSubplot: >]],\n",
       "      dtype=object)"
      ]
     },
     "execution_count": 37,
     "metadata": {},
     "output_type": "execute_result"
    },
    {
     "data": {
      "image/png": "[encoded data removed]",
      "text/plain": [
       "<Figure size 640x480 with 4 Axes>"
      ]
     },
     "metadata": {},
     "output_type": "display_data"
    }
   ],
   "source": [
    "mcd_food.loc[mcd_food['Sentiment']>0, ['Calories', 'Total Fat', 'Cholesterol']].hist()"
   ]
  },
  {
   "cell_type": "code",
   "execution_count": null,
   "id": "b6345d00",
   "metadata": {},
   "outputs": [],
   "source": []
  }
 ],
 "metadata": {
  "kernelspec": {
   "display_name": "Python 3 (ipykernel)",
   "language": "python",
   "name": "python3"
  },
  "language_info": {
   "codemirror_mode": {
    "name": "ipython",
    "version": 3
   },
   "file_extension": ".py",
   "mimetype": "text/x-python",
   "name": "python",
   "nbconvert_exporter": "python",
   "pygments_lexer": "ipython3",
   "version": "3.10.8"
  }
 },
 "nbformat": 4,
 "nbformat_minor": 5
}
